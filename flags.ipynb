{
 "cells": [
  {
   "cell_type": "code",
   "execution_count": 1,
   "metadata": {},
   "outputs": [],
   "source": [
    "from flags import *"
   ]
  },
  {
   "cell_type": "code",
   "execution_count": 2,
   "metadata": {},
   "outputs": [
    {
     "name": "stdout",
     "output_type": "stream",
     "text": [
      "Combinations with length 1\n",
      "['B']\n",
      "['V']\n",
      "\n",
      "Combinations with length 2\n",
      "['B', 'V']\n",
      "['V', 'B']\n",
      "\n",
      "Combinations with length 3\n",
      "['B', 'V', 'B']\n",
      "['B', 'A', 'V']\n",
      "['V', 'B', 'V']\n",
      "['V', 'A', 'B']\n",
      "\n",
      "Combinations with length 4\n",
      "['B', 'V', 'B', 'V']\n",
      "['B', 'V', 'A', 'B']\n",
      "['B', 'A', 'V', 'B']\n",
      "['V', 'B', 'V', 'B']\n",
      "['V', 'B', 'A', 'V']\n",
      "['V', 'A', 'B', 'V']\n",
      "\n",
      "Combinations with length 5\n",
      "['B', 'V', 'B', 'V', 'B']\n",
      "['B', 'V', 'B', 'A', 'V']\n",
      "['B', 'V', 'A', 'B', 'V']\n",
      "['B', 'A', 'V', 'B', 'V']\n",
      "['B', 'A', 'V', 'A', 'B']\n",
      "['V', 'B', 'V', 'B', 'V']\n",
      "['V', 'B', 'V', 'A', 'B']\n",
      "['V', 'B', 'A', 'V', 'B']\n",
      "['V', 'A', 'B', 'V', 'B']\n",
      "['V', 'A', 'B', 'A', 'V']\n",
      "\n"
     ]
    }
   ],
   "source": [
    "for i in range(1, 6):\n",
    "    print(f'Combinations with length {i}')\n",
    "    get_combinations([], i)\n",
    "    print()"
   ]
  },
  {
   "cell_type": "markdown",
   "metadata": {},
   "source": [
    "For each additional column, if you analyse the two last columns of the previous lenght, you can see that there are only 4 possibilities for each line endings (it can be seen easily on the combinations of length 3 to lenght 4):\n",
    "    1. ['V', 'B']: The line is splitted into ['V', 'A', B] and ['V', 'B', 'V']. An insertion and an addition.\n",
    "    2. ['A', 'V']: The line is only turned into ['A', 'V', 'B']. Only an addition.\n",
    "    3. ['B', 'V']: The line is splitted into ['B', 'A', V] and ['B', 'V', 'B']. An insertion and an addition.\n",
    "    4. ['A', 'B']: The line is only turned into ['A', 'B', 'V']. Only an addition.\n",
    "It is important to see that the resulting lines only have the same 4 endings.\n",
    "\n",
    "I called the 1. and 3. the splitters, and the 2. and 4. the transformers, since when the length is added 1 a splitter splits into a splitter and a transformer, and a transformer transforms into a splitter. So the number of splitters, $spl_l$ and transformers, $tra_l$, where $l$ is the length of the combinations follow the rule:\n",
    "$$spl_{l+1} = spl_l + tra_l$$\n",
    "$$tra_{l+1} = spl_l$$"
   ]
  },
  {
   "cell_type": "code",
   "execution_count": 3,
   "metadata": {},
   "outputs": [
    {
     "name": "stdout",
     "output_type": "stream",
     "text": [
      "Number of combinations with length 1: 2\n",
      "Number of combinations with length 2: 2\n",
      "Number of combinations with length 3: 4\n",
      "Number of combinations with length 4: 6\n",
      "Number of combinations with length 5: 10\n",
      "Number of combinations with length 6: 16\n",
      "Number of combinations with length 7: 26\n",
      "Number of combinations with length 8: 42\n",
      "Number of combinations with length 9: 68\n",
      "Number of combinations with length 10: 110\n"
     ]
    }
   ],
   "source": [
    "for i in range(1, 11):\n",
    "    n = count_combinations([], i)\n",
    "    print(f'Number of combinations with length {i}: {n}')"
   ]
  },
  {
   "cell_type": "markdown",
   "metadata": {},
   "source": [
    "As you can see, the number of combinations behave like a Fibonacci sequence. More precisely, the number of combinations of length $l$, $N_l$ obeys:\n",
    "$$ N_l = 2F_l$$\n",
    "Where $F_l$ is the $l$th number of the Fibonacci Sequence.\n",
    "\n",
    "And this makes sense, since the total number of combinations of length $l$, $tot_l$, follow this:\n",
    "$$tot_l = spl_l + tra_l$$\n",
    "$$tot_l = (spl_{l-1} + tra_{l-1}) + (spl_{l-1})$$\n",
    "$$tot_l = tot_{l-1} + (spl_{l-2} + tra_{l-2})$$\n",
    "$$tot_l = tot_{l-1} + tot_{l-2}$$\n",
    "\n",
    "And by the initial conditions we have:\n",
    "$$tot_1 = 2$$\n",
    "$$tot_2 = 2$$\n",
    "\n",
    "So we can optimize this algorithm as a Fibonacci sequence calculator, and it will performe with $\\Theta({l})$."
   ]
  }
 ],
 "metadata": {
  "kernelspec": {
   "display_name": "Python 3",
   "language": "python",
   "name": "python3"
  },
  "language_info": {
   "codemirror_mode": {
    "name": "ipython",
    "version": 3
   },
   "file_extension": ".py",
   "mimetype": "text/x-python",
   "name": "python",
   "nbconvert_exporter": "python",
   "pygments_lexer": "ipython3",
   "version": "3.6.8"
  }
 },
 "nbformat": 4,
 "nbformat_minor": 2
}
